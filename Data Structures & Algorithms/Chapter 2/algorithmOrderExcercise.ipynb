{
 "cells": [
  {
   "cell_type": "code",
   "execution_count": 36,
   "metadata": {},
   "outputs": [],
   "source": [
    "import numpy as np"
   ]
  },
  {
   "cell_type": "code",
   "execution_count": 37,
   "metadata": {},
   "outputs": [],
   "source": [
    "x1=range(1,100)"
   ]
  },
  {
   "cell_type": "code",
   "execution_count": 38,
   "metadata": {},
   "outputs": [],
   "source": [
    "n_square=np.power(x1,2)"
   ]
  },
  {
   "cell_type": "code",
   "execution_count": 39,
   "metadata": {},
   "outputs": [
    {
     "data": {
      "text/plain": [
       "array([   1,    4,    9,   16,   25,   36,   49,   64,   81,  100,  121,\n",
       "        144,  169,  196,  225,  256,  289,  324,  361,  400,  441,  484,\n",
       "        529,  576,  625,  676,  729,  784,  841,  900,  961, 1024, 1089,\n",
       "       1156, 1225, 1296, 1369, 1444, 1521, 1600, 1681, 1764, 1849, 1936,\n",
       "       2025, 2116, 2209, 2304, 2401, 2500, 2601, 2704, 2809, 2916, 3025,\n",
       "       3136, 3249, 3364, 3481, 3600, 3721, 3844, 3969, 4096, 4225, 4356,\n",
       "       4489, 4624, 4761, 4900, 5041, 5184, 5329, 5476, 5625, 5776, 5929,\n",
       "       6084, 6241, 6400, 6561, 6724, 6889, 7056, 7225, 7396, 7569, 7744,\n",
       "       7921, 8100, 8281, 8464, 8649, 8836, 9025, 9216, 9409, 9604, 9801], dtype=int32)"
      ]
     },
     "execution_count": 39,
     "metadata": {},
     "output_type": "execute_result"
    }
   ],
   "source": [
    "n_square"
   ]
  },
  {
   "cell_type": "code",
   "execution_count": 40,
   "metadata": {
    "collapsed": true
   },
   "outputs": [],
   "source": [
    "n_cube=np.power(x1,3)"
   ]
  },
  {
   "cell_type": "code",
   "execution_count": 41,
   "metadata": {},
   "outputs": [
    {
     "data": {
      "text/plain": [
       "array([     1,      8,     27,     64,    125,    216,    343,    512,\n",
       "          729,   1000,   1331,   1728,   2197,   2744,   3375,   4096,\n",
       "         4913,   5832,   6859,   8000,   9261,  10648,  12167,  13824,\n",
       "        15625,  17576,  19683,  21952,  24389,  27000,  29791,  32768,\n",
       "        35937,  39304,  42875,  46656,  50653,  54872,  59319,  64000,\n",
       "        68921,  74088,  79507,  85184,  91125,  97336, 103823, 110592,\n",
       "       117649, 125000, 132651, 140608, 148877, 157464, 166375, 175616,\n",
       "       185193, 195112, 205379, 216000, 226981, 238328, 250047, 262144,\n",
       "       274625, 287496, 300763, 314432, 328509, 343000, 357911, 373248,\n",
       "       389017, 405224, 421875, 438976, 456533, 474552, 493039, 512000,\n",
       "       531441, 551368, 571787, 592704, 614125, 636056, 658503, 681472,\n",
       "       704969, 729000, 753571, 778688, 804357, 830584, 857375, 884736,\n",
       "       912673, 941192, 970299], dtype=int32)"
      ]
     },
     "execution_count": 41,
     "metadata": {},
     "output_type": "execute_result"
    }
   ],
   "source": [
    "n_cube"
   ]
  },
  {
   "cell_type": "code",
   "execution_count": 95,
   "metadata": {
    "collapsed": true
   },
   "outputs": [],
   "source": [
    "n_exp=np.exp2(x1)"
   ]
  },
  {
   "cell_type": "code",
   "execution_count": 96,
   "metadata": {},
   "outputs": [
    {
     "data": {
      "text/plain": [
       "dtype('float64')"
      ]
     },
     "execution_count": 96,
     "metadata": {},
     "output_type": "execute_result"
    }
   ],
   "source": [
    "n_exp.dtype"
   ]
  },
  {
   "cell_type": "code",
   "execution_count": 43,
   "metadata": {},
   "outputs": [
    {
     "data": {
      "text/plain": [
       "array([  2.00000000e+00,   4.00000000e+00,   8.00000000e+00,\n",
       "         1.60000000e+01,   3.20000000e+01,   6.40000000e+01,\n",
       "         1.28000000e+02,   2.56000000e+02,   5.12000000e+02,\n",
       "         1.02400000e+03,   2.04800000e+03,   4.09600000e+03,\n",
       "         8.19200000e+03,   1.63840000e+04,   3.27680000e+04,\n",
       "         6.55360000e+04,   1.31072000e+05,   2.62144000e+05,\n",
       "         5.24288000e+05,   1.04857600e+06,   2.09715200e+06,\n",
       "         4.19430400e+06,   8.38860800e+06,   1.67772160e+07,\n",
       "         3.35544320e+07,   6.71088640e+07,   1.34217728e+08,\n",
       "         2.68435456e+08,   5.36870912e+08,   1.07374182e+09,\n",
       "         2.14748365e+09,   4.29496730e+09,   8.58993459e+09,\n",
       "         1.71798692e+10,   3.43597384e+10,   6.87194767e+10,\n",
       "         1.37438953e+11,   2.74877907e+11,   5.49755814e+11,\n",
       "         1.09951163e+12,   2.19902326e+12,   4.39804651e+12,\n",
       "         8.79609302e+12,   1.75921860e+13,   3.51843721e+13,\n",
       "         7.03687442e+13,   1.40737488e+14,   2.81474977e+14,\n",
       "         5.62949953e+14,   1.12589991e+15,   2.25179981e+15,\n",
       "         4.50359963e+15,   9.00719925e+15,   1.80143985e+16,\n",
       "         3.60287970e+16,   7.20575940e+16,   1.44115188e+17,\n",
       "         2.88230376e+17,   5.76460752e+17,   1.15292150e+18,\n",
       "         2.30584301e+18,   4.61168602e+18,   9.22337204e+18,\n",
       "         1.84467441e+19,   3.68934881e+19,   7.37869763e+19,\n",
       "         1.47573953e+20,   2.95147905e+20,   5.90295810e+20,\n",
       "         1.18059162e+21,   2.36118324e+21,   4.72236648e+21,\n",
       "         9.44473297e+21,   1.88894659e+22,   3.77789319e+22,\n",
       "         7.55578637e+22,   1.51115727e+23,   3.02231455e+23,\n",
       "         6.04462910e+23,   1.20892582e+24,   2.41785164e+24,\n",
       "         4.83570328e+24,   9.67140656e+24,   1.93428131e+25,\n",
       "         3.86856262e+25,   7.73712525e+25,   1.54742505e+26,\n",
       "         3.09485010e+26,   6.18970020e+26,   1.23794004e+27,\n",
       "         2.47588008e+27,   4.95176016e+27,   9.90352031e+27,\n",
       "         1.98070406e+28,   3.96140813e+28,   7.92281625e+28,\n",
       "         1.58456325e+29,   3.16912650e+29,   6.33825300e+29])"
      ]
     },
     "execution_count": 43,
     "metadata": {},
     "output_type": "execute_result"
    }
   ],
   "source": [
    "n_exp"
   ]
  },
  {
   "cell_type": "code",
   "execution_count": 44,
   "metadata": {},
   "outputs": [],
   "source": [
    "n_log=np.log10(x1)"
   ]
  },
  {
   "cell_type": "code",
   "execution_count": 45,
   "metadata": {},
   "outputs": [
    {
     "data": {
      "text/plain": [
       "array([ 0.        ,  0.30103   ,  0.47712125,  0.60205999,  0.69897   ,\n",
       "        0.77815125,  0.84509804,  0.90308999,  0.95424251,  1.        ,\n",
       "        1.04139269,  1.07918125,  1.11394335,  1.14612804,  1.17609126,\n",
       "        1.20411998,  1.23044892,  1.25527251,  1.2787536 ,  1.30103   ,\n",
       "        1.32221929,  1.34242268,  1.36172784,  1.38021124,  1.39794001,\n",
       "        1.41497335,  1.43136376,  1.44715803,  1.462398  ,  1.47712125,\n",
       "        1.49136169,  1.50514998,  1.51851394,  1.53147892,  1.54406804,\n",
       "        1.5563025 ,  1.56820172,  1.5797836 ,  1.59106461,  1.60205999,\n",
       "        1.61278386,  1.62324929,  1.63346846,  1.64345268,  1.65321251,\n",
       "        1.66275783,  1.67209786,  1.68124124,  1.69019608,  1.69897   ,\n",
       "        1.70757018,  1.71600334,  1.72427587,  1.73239376,  1.74036269,\n",
       "        1.74818803,  1.75587486,  1.76342799,  1.77085201,  1.77815125,\n",
       "        1.78532984,  1.79239169,  1.79934055,  1.80617997,  1.81291336,\n",
       "        1.81954394,  1.8260748 ,  1.83250891,  1.83884909,  1.84509804,\n",
       "        1.85125835,  1.8573325 ,  1.86332286,  1.86923172,  1.87506126,\n",
       "        1.88081359,  1.88649073,  1.8920946 ,  1.89762709,  1.90308999,\n",
       "        1.90848502,  1.91381385,  1.91907809,  1.92427929,  1.92941893,\n",
       "        1.93449845,  1.93951925,  1.94448267,  1.94939001,  1.95424251,\n",
       "        1.95904139,  1.96378783,  1.96848295,  1.97312785,  1.97772361,\n",
       "        1.98227123,  1.98677173,  1.99122608,  1.99563519])"
      ]
     },
     "execution_count": 45,
     "metadata": {},
     "output_type": "execute_result"
    }
   ],
   "source": [
    "n_log"
   ]
  },
  {
   "cell_type": "code",
   "execution_count": null,
   "metadata": {
    "collapsed": true
   },
   "outputs": [],
   "source": []
  },
  {
   "cell_type": "code",
   "execution_count": 49,
   "metadata": {
    "collapsed": true
   },
   "outputs": [],
   "source": [
    "import pandas as pd"
   ]
  },
  {
   "cell_type": "code",
   "execution_count": 50,
   "metadata": {
    "collapsed": true
   },
   "outputs": [],
   "source": [
    "n_logn=np.multiply(x1,n_log)"
   ]
  },
  {
   "cell_type": "code",
   "execution_count": 52,
   "metadata": {},
   "outputs": [],
   "source": [
    "p1=pd.DataFrame({'n':x1,'n_exp':n_exp,'n_log':n_log,'nlogn':n_logn})"
   ]
  },
  {
   "cell_type": "code",
   "execution_count": 53,
   "metadata": {},
   "outputs": [
    {
     "data": {
      "text/html": [
       "<div>\n",
       "<style>\n",
       "    .dataframe thead tr:only-child th {\n",
       "        text-align: right;\n",
       "    }\n",
       "\n",
       "    .dataframe thead th {\n",
       "        text-align: left;\n",
       "    }\n",
       "\n",
       "    .dataframe tbody tr th {\n",
       "        vertical-align: top;\n",
       "    }\n",
       "</style>\n",
       "<table border=\"1\" class=\"dataframe\">\n",
       "  <thead>\n",
       "    <tr style=\"text-align: right;\">\n",
       "      <th></th>\n",
       "      <th>n</th>\n",
       "      <th>n_exp</th>\n",
       "      <th>n_log</th>\n",
       "      <th>nlogn</th>\n",
       "    </tr>\n",
       "  </thead>\n",
       "  <tbody>\n",
       "    <tr>\n",
       "      <th>0</th>\n",
       "      <td>1</td>\n",
       "      <td>2.000000e+00</td>\n",
       "      <td>0.000000</td>\n",
       "      <td>0.000000</td>\n",
       "    </tr>\n",
       "    <tr>\n",
       "      <th>1</th>\n",
       "      <td>2</td>\n",
       "      <td>4.000000e+00</td>\n",
       "      <td>0.301030</td>\n",
       "      <td>0.602060</td>\n",
       "    </tr>\n",
       "    <tr>\n",
       "      <th>2</th>\n",
       "      <td>3</td>\n",
       "      <td>8.000000e+00</td>\n",
       "      <td>0.477121</td>\n",
       "      <td>1.431364</td>\n",
       "    </tr>\n",
       "    <tr>\n",
       "      <th>3</th>\n",
       "      <td>4</td>\n",
       "      <td>1.600000e+01</td>\n",
       "      <td>0.602060</td>\n",
       "      <td>2.408240</td>\n",
       "    </tr>\n",
       "    <tr>\n",
       "      <th>4</th>\n",
       "      <td>5</td>\n",
       "      <td>3.200000e+01</td>\n",
       "      <td>0.698970</td>\n",
       "      <td>3.494850</td>\n",
       "    </tr>\n",
       "    <tr>\n",
       "      <th>5</th>\n",
       "      <td>6</td>\n",
       "      <td>6.400000e+01</td>\n",
       "      <td>0.778151</td>\n",
       "      <td>4.668908</td>\n",
       "    </tr>\n",
       "    <tr>\n",
       "      <th>6</th>\n",
       "      <td>7</td>\n",
       "      <td>1.280000e+02</td>\n",
       "      <td>0.845098</td>\n",
       "      <td>5.915686</td>\n",
       "    </tr>\n",
       "    <tr>\n",
       "      <th>7</th>\n",
       "      <td>8</td>\n",
       "      <td>2.560000e+02</td>\n",
       "      <td>0.903090</td>\n",
       "      <td>7.224720</td>\n",
       "    </tr>\n",
       "    <tr>\n",
       "      <th>8</th>\n",
       "      <td>9</td>\n",
       "      <td>5.120000e+02</td>\n",
       "      <td>0.954243</td>\n",
       "      <td>8.588183</td>\n",
       "    </tr>\n",
       "    <tr>\n",
       "      <th>9</th>\n",
       "      <td>10</td>\n",
       "      <td>1.024000e+03</td>\n",
       "      <td>1.000000</td>\n",
       "      <td>10.000000</td>\n",
       "    </tr>\n",
       "    <tr>\n",
       "      <th>10</th>\n",
       "      <td>11</td>\n",
       "      <td>2.048000e+03</td>\n",
       "      <td>1.041393</td>\n",
       "      <td>11.455320</td>\n",
       "    </tr>\n",
       "    <tr>\n",
       "      <th>11</th>\n",
       "      <td>12</td>\n",
       "      <td>4.096000e+03</td>\n",
       "      <td>1.079181</td>\n",
       "      <td>12.950175</td>\n",
       "    </tr>\n",
       "    <tr>\n",
       "      <th>12</th>\n",
       "      <td>13</td>\n",
       "      <td>8.192000e+03</td>\n",
       "      <td>1.113943</td>\n",
       "      <td>14.481264</td>\n",
       "    </tr>\n",
       "    <tr>\n",
       "      <th>13</th>\n",
       "      <td>14</td>\n",
       "      <td>1.638400e+04</td>\n",
       "      <td>1.146128</td>\n",
       "      <td>16.045792</td>\n",
       "    </tr>\n",
       "    <tr>\n",
       "      <th>14</th>\n",
       "      <td>15</td>\n",
       "      <td>3.276800e+04</td>\n",
       "      <td>1.176091</td>\n",
       "      <td>17.641369</td>\n",
       "    </tr>\n",
       "    <tr>\n",
       "      <th>15</th>\n",
       "      <td>16</td>\n",
       "      <td>6.553600e+04</td>\n",
       "      <td>1.204120</td>\n",
       "      <td>19.265920</td>\n",
       "    </tr>\n",
       "    <tr>\n",
       "      <th>16</th>\n",
       "      <td>17</td>\n",
       "      <td>1.310720e+05</td>\n",
       "      <td>1.230449</td>\n",
       "      <td>20.917632</td>\n",
       "    </tr>\n",
       "    <tr>\n",
       "      <th>17</th>\n",
       "      <td>18</td>\n",
       "      <td>2.621440e+05</td>\n",
       "      <td>1.255273</td>\n",
       "      <td>22.594905</td>\n",
       "    </tr>\n",
       "    <tr>\n",
       "      <th>18</th>\n",
       "      <td>19</td>\n",
       "      <td>5.242880e+05</td>\n",
       "      <td>1.278754</td>\n",
       "      <td>24.296318</td>\n",
       "    </tr>\n",
       "    <tr>\n",
       "      <th>19</th>\n",
       "      <td>20</td>\n",
       "      <td>1.048576e+06</td>\n",
       "      <td>1.301030</td>\n",
       "      <td>26.020600</td>\n",
       "    </tr>\n",
       "    <tr>\n",
       "      <th>20</th>\n",
       "      <td>21</td>\n",
       "      <td>2.097152e+06</td>\n",
       "      <td>1.322219</td>\n",
       "      <td>27.766605</td>\n",
       "    </tr>\n",
       "    <tr>\n",
       "      <th>21</th>\n",
       "      <td>22</td>\n",
       "      <td>4.194304e+06</td>\n",
       "      <td>1.342423</td>\n",
       "      <td>29.533299</td>\n",
       "    </tr>\n",
       "    <tr>\n",
       "      <th>22</th>\n",
       "      <td>23</td>\n",
       "      <td>8.388608e+06</td>\n",
       "      <td>1.361728</td>\n",
       "      <td>31.319740</td>\n",
       "    </tr>\n",
       "    <tr>\n",
       "      <th>23</th>\n",
       "      <td>24</td>\n",
       "      <td>1.677722e+07</td>\n",
       "      <td>1.380211</td>\n",
       "      <td>33.125070</td>\n",
       "    </tr>\n",
       "    <tr>\n",
       "      <th>24</th>\n",
       "      <td>25</td>\n",
       "      <td>3.355443e+07</td>\n",
       "      <td>1.397940</td>\n",
       "      <td>34.948500</td>\n",
       "    </tr>\n",
       "    <tr>\n",
       "      <th>25</th>\n",
       "      <td>26</td>\n",
       "      <td>6.710886e+07</td>\n",
       "      <td>1.414973</td>\n",
       "      <td>36.789307</td>\n",
       "    </tr>\n",
       "    <tr>\n",
       "      <th>26</th>\n",
       "      <td>27</td>\n",
       "      <td>1.342177e+08</td>\n",
       "      <td>1.431364</td>\n",
       "      <td>38.646822</td>\n",
       "    </tr>\n",
       "    <tr>\n",
       "      <th>27</th>\n",
       "      <td>28</td>\n",
       "      <td>2.684355e+08</td>\n",
       "      <td>1.447158</td>\n",
       "      <td>40.520425</td>\n",
       "    </tr>\n",
       "    <tr>\n",
       "      <th>28</th>\n",
       "      <td>29</td>\n",
       "      <td>5.368709e+08</td>\n",
       "      <td>1.462398</td>\n",
       "      <td>42.409542</td>\n",
       "    </tr>\n",
       "    <tr>\n",
       "      <th>29</th>\n",
       "      <td>30</td>\n",
       "      <td>1.073742e+09</td>\n",
       "      <td>1.477121</td>\n",
       "      <td>44.313638</td>\n",
       "    </tr>\n",
       "    <tr>\n",
       "      <th>...</th>\n",
       "      <td>...</td>\n",
       "      <td>...</td>\n",
       "      <td>...</td>\n",
       "      <td>...</td>\n",
       "    </tr>\n",
       "    <tr>\n",
       "      <th>69</th>\n",
       "      <td>70</td>\n",
       "      <td>1.180592e+21</td>\n",
       "      <td>1.845098</td>\n",
       "      <td>129.156863</td>\n",
       "    </tr>\n",
       "    <tr>\n",
       "      <th>70</th>\n",
       "      <td>71</td>\n",
       "      <td>2.361183e+21</td>\n",
       "      <td>1.851258</td>\n",
       "      <td>131.439343</td>\n",
       "    </tr>\n",
       "    <tr>\n",
       "      <th>71</th>\n",
       "      <td>72</td>\n",
       "      <td>4.722366e+21</td>\n",
       "      <td>1.857332</td>\n",
       "      <td>133.727940</td>\n",
       "    </tr>\n",
       "    <tr>\n",
       "      <th>72</th>\n",
       "      <td>73</td>\n",
       "      <td>9.444733e+21</td>\n",
       "      <td>1.863323</td>\n",
       "      <td>136.022569</td>\n",
       "    </tr>\n",
       "    <tr>\n",
       "      <th>73</th>\n",
       "      <td>74</td>\n",
       "      <td>1.888947e+22</td>\n",
       "      <td>1.869232</td>\n",
       "      <td>138.323147</td>\n",
       "    </tr>\n",
       "    <tr>\n",
       "      <th>74</th>\n",
       "      <td>75</td>\n",
       "      <td>3.777893e+22</td>\n",
       "      <td>1.875061</td>\n",
       "      <td>140.629595</td>\n",
       "    </tr>\n",
       "    <tr>\n",
       "      <th>75</th>\n",
       "      <td>76</td>\n",
       "      <td>7.555786e+22</td>\n",
       "      <td>1.880814</td>\n",
       "      <td>142.941833</td>\n",
       "    </tr>\n",
       "    <tr>\n",
       "      <th>76</th>\n",
       "      <td>77</td>\n",
       "      <td>1.511157e+23</td>\n",
       "      <td>1.886491</td>\n",
       "      <td>145.259786</td>\n",
       "    </tr>\n",
       "    <tr>\n",
       "      <th>77</th>\n",
       "      <td>78</td>\n",
       "      <td>3.022315e+23</td>\n",
       "      <td>1.892095</td>\n",
       "      <td>147.583379</td>\n",
       "    </tr>\n",
       "    <tr>\n",
       "      <th>78</th>\n",
       "      <td>79</td>\n",
       "      <td>6.044629e+23</td>\n",
       "      <td>1.897627</td>\n",
       "      <td>149.912540</td>\n",
       "    </tr>\n",
       "    <tr>\n",
       "      <th>79</th>\n",
       "      <td>80</td>\n",
       "      <td>1.208926e+24</td>\n",
       "      <td>1.903090</td>\n",
       "      <td>152.247199</td>\n",
       "    </tr>\n",
       "    <tr>\n",
       "      <th>80</th>\n",
       "      <td>81</td>\n",
       "      <td>2.417852e+24</td>\n",
       "      <td>1.908485</td>\n",
       "      <td>154.587287</td>\n",
       "    </tr>\n",
       "    <tr>\n",
       "      <th>81</th>\n",
       "      <td>82</td>\n",
       "      <td>4.835703e+24</td>\n",
       "      <td>1.913814</td>\n",
       "      <td>156.932736</td>\n",
       "    </tr>\n",
       "    <tr>\n",
       "      <th>82</th>\n",
       "      <td>83</td>\n",
       "      <td>9.671407e+24</td>\n",
       "      <td>1.919078</td>\n",
       "      <td>159.283482</td>\n",
       "    </tr>\n",
       "    <tr>\n",
       "      <th>83</th>\n",
       "      <td>84</td>\n",
       "      <td>1.934281e+25</td>\n",
       "      <td>1.924279</td>\n",
       "      <td>161.639460</td>\n",
       "    </tr>\n",
       "    <tr>\n",
       "      <th>84</th>\n",
       "      <td>85</td>\n",
       "      <td>3.868563e+25</td>\n",
       "      <td>1.929419</td>\n",
       "      <td>164.000609</td>\n",
       "    </tr>\n",
       "    <tr>\n",
       "      <th>85</th>\n",
       "      <td>86</td>\n",
       "      <td>7.737125e+25</td>\n",
       "      <td>1.934498</td>\n",
       "      <td>166.366867</td>\n",
       "    </tr>\n",
       "    <tr>\n",
       "      <th>86</th>\n",
       "      <td>87</td>\n",
       "      <td>1.547425e+26</td>\n",
       "      <td>1.939519</td>\n",
       "      <td>168.738175</td>\n",
       "    </tr>\n",
       "    <tr>\n",
       "      <th>87</th>\n",
       "      <td>88</td>\n",
       "      <td>3.094850e+26</td>\n",
       "      <td>1.944483</td>\n",
       "      <td>171.114475</td>\n",
       "    </tr>\n",
       "    <tr>\n",
       "      <th>88</th>\n",
       "      <td>89</td>\n",
       "      <td>6.189700e+26</td>\n",
       "      <td>1.949390</td>\n",
       "      <td>173.495711</td>\n",
       "    </tr>\n",
       "    <tr>\n",
       "      <th>89</th>\n",
       "      <td>90</td>\n",
       "      <td>1.237940e+27</td>\n",
       "      <td>1.954243</td>\n",
       "      <td>175.881826</td>\n",
       "    </tr>\n",
       "    <tr>\n",
       "      <th>90</th>\n",
       "      <td>91</td>\n",
       "      <td>2.475880e+27</td>\n",
       "      <td>1.959041</td>\n",
       "      <td>178.272767</td>\n",
       "    </tr>\n",
       "    <tr>\n",
       "      <th>91</th>\n",
       "      <td>92</td>\n",
       "      <td>4.951760e+27</td>\n",
       "      <td>1.963788</td>\n",
       "      <td>180.668480</td>\n",
       "    </tr>\n",
       "    <tr>\n",
       "      <th>92</th>\n",
       "      <td>93</td>\n",
       "      <td>9.903520e+27</td>\n",
       "      <td>1.968483</td>\n",
       "      <td>183.068914</td>\n",
       "    </tr>\n",
       "    <tr>\n",
       "      <th>93</th>\n",
       "      <td>94</td>\n",
       "      <td>1.980704e+28</td>\n",
       "      <td>1.973128</td>\n",
       "      <td>185.474018</td>\n",
       "    </tr>\n",
       "    <tr>\n",
       "      <th>94</th>\n",
       "      <td>95</td>\n",
       "      <td>3.961408e+28</td>\n",
       "      <td>1.977724</td>\n",
       "      <td>187.883743</td>\n",
       "    </tr>\n",
       "    <tr>\n",
       "      <th>95</th>\n",
       "      <td>96</td>\n",
       "      <td>7.922816e+28</td>\n",
       "      <td>1.982271</td>\n",
       "      <td>190.298038</td>\n",
       "    </tr>\n",
       "    <tr>\n",
       "      <th>96</th>\n",
       "      <td>97</td>\n",
       "      <td>1.584563e+29</td>\n",
       "      <td>1.986772</td>\n",
       "      <td>192.716858</td>\n",
       "    </tr>\n",
       "    <tr>\n",
       "      <th>97</th>\n",
       "      <td>98</td>\n",
       "      <td>3.169127e+29</td>\n",
       "      <td>1.991226</td>\n",
       "      <td>195.140155</td>\n",
       "    </tr>\n",
       "    <tr>\n",
       "      <th>98</th>\n",
       "      <td>99</td>\n",
       "      <td>6.338253e+29</td>\n",
       "      <td>1.995635</td>\n",
       "      <td>197.567884</td>\n",
       "    </tr>\n",
       "  </tbody>\n",
       "</table>\n",
       "<p>99 rows × 4 columns</p>\n",
       "</div>"
      ],
      "text/plain": [
       "     n         n_exp     n_log       nlogn\n",
       "0    1  2.000000e+00  0.000000    0.000000\n",
       "1    2  4.000000e+00  0.301030    0.602060\n",
       "2    3  8.000000e+00  0.477121    1.431364\n",
       "3    4  1.600000e+01  0.602060    2.408240\n",
       "4    5  3.200000e+01  0.698970    3.494850\n",
       "5    6  6.400000e+01  0.778151    4.668908\n",
       "6    7  1.280000e+02  0.845098    5.915686\n",
       "7    8  2.560000e+02  0.903090    7.224720\n",
       "8    9  5.120000e+02  0.954243    8.588183\n",
       "9   10  1.024000e+03  1.000000   10.000000\n",
       "10  11  2.048000e+03  1.041393   11.455320\n",
       "11  12  4.096000e+03  1.079181   12.950175\n",
       "12  13  8.192000e+03  1.113943   14.481264\n",
       "13  14  1.638400e+04  1.146128   16.045792\n",
       "14  15  3.276800e+04  1.176091   17.641369\n",
       "15  16  6.553600e+04  1.204120   19.265920\n",
       "16  17  1.310720e+05  1.230449   20.917632\n",
       "17  18  2.621440e+05  1.255273   22.594905\n",
       "18  19  5.242880e+05  1.278754   24.296318\n",
       "19  20  1.048576e+06  1.301030   26.020600\n",
       "20  21  2.097152e+06  1.322219   27.766605\n",
       "21  22  4.194304e+06  1.342423   29.533299\n",
       "22  23  8.388608e+06  1.361728   31.319740\n",
       "23  24  1.677722e+07  1.380211   33.125070\n",
       "24  25  3.355443e+07  1.397940   34.948500\n",
       "25  26  6.710886e+07  1.414973   36.789307\n",
       "26  27  1.342177e+08  1.431364   38.646822\n",
       "27  28  2.684355e+08  1.447158   40.520425\n",
       "28  29  5.368709e+08  1.462398   42.409542\n",
       "29  30  1.073742e+09  1.477121   44.313638\n",
       "..  ..           ...       ...         ...\n",
       "69  70  1.180592e+21  1.845098  129.156863\n",
       "70  71  2.361183e+21  1.851258  131.439343\n",
       "71  72  4.722366e+21  1.857332  133.727940\n",
       "72  73  9.444733e+21  1.863323  136.022569\n",
       "73  74  1.888947e+22  1.869232  138.323147\n",
       "74  75  3.777893e+22  1.875061  140.629595\n",
       "75  76  7.555786e+22  1.880814  142.941833\n",
       "76  77  1.511157e+23  1.886491  145.259786\n",
       "77  78  3.022315e+23  1.892095  147.583379\n",
       "78  79  6.044629e+23  1.897627  149.912540\n",
       "79  80  1.208926e+24  1.903090  152.247199\n",
       "80  81  2.417852e+24  1.908485  154.587287\n",
       "81  82  4.835703e+24  1.913814  156.932736\n",
       "82  83  9.671407e+24  1.919078  159.283482\n",
       "83  84  1.934281e+25  1.924279  161.639460\n",
       "84  85  3.868563e+25  1.929419  164.000609\n",
       "85  86  7.737125e+25  1.934498  166.366867\n",
       "86  87  1.547425e+26  1.939519  168.738175\n",
       "87  88  3.094850e+26  1.944483  171.114475\n",
       "88  89  6.189700e+26  1.949390  173.495711\n",
       "89  90  1.237940e+27  1.954243  175.881826\n",
       "90  91  2.475880e+27  1.959041  178.272767\n",
       "91  92  4.951760e+27  1.963788  180.668480\n",
       "92  93  9.903520e+27  1.968483  183.068914\n",
       "93  94  1.980704e+28  1.973128  185.474018\n",
       "94  95  3.961408e+28  1.977724  187.883743\n",
       "95  96  7.922816e+28  1.982271  190.298038\n",
       "96  97  1.584563e+29  1.986772  192.716858\n",
       "97  98  3.169127e+29  1.991226  195.140155\n",
       "98  99  6.338253e+29  1.995635  197.567884\n",
       "\n",
       "[99 rows x 4 columns]"
      ]
     },
     "execution_count": 53,
     "metadata": {},
     "output_type": "execute_result"
    }
   ],
   "source": [
    "p1"
   ]
  },
  {
   "cell_type": "code",
   "execution_count": 82,
   "metadata": {
    "collapsed": true
   },
   "outputs": [],
   "source": [
    "import matplotlib.pyplot as plt"
   ]
  },
  {
   "cell_type": "code",
   "execution_count": 85,
   "metadata": {},
   "outputs": [
    {
     "data": {
      "text/plain": [
       "[<matplotlib.lines.Line2D at 0x1e9e4e72780>]"
      ]
     },
     "execution_count": 85,
     "metadata": {},
     "output_type": "execute_result"
    }
   ],
   "source": [
    "plt.plot(x1,n_square)"
   ]
  },
  {
   "cell_type": "code",
   "execution_count": 86,
   "metadata": {},
   "outputs": [
    {
     "data": {
      "text/plain": [
       "[<matplotlib.lines.Line2D at 0x1e9e52500b8>]"
      ]
     },
     "execution_count": 86,
     "metadata": {},
     "output_type": "execute_result"
    }
   ],
   "source": [
    "plt.plot(x1,n_cube)"
   ]
  },
  {
   "cell_type": "code",
   "execution_count": 87,
   "metadata": {},
   "outputs": [
    {
     "data": {
      "text/plain": [
       "[<matplotlib.lines.Line2D at 0x1e9e5214e10>]"
      ]
     },
     "execution_count": 87,
     "metadata": {},
     "output_type": "execute_result"
    }
   ],
   "source": [
    "plt.plot(x1,n_exp)"
   ]
  },
  {
   "cell_type": "code",
   "execution_count": 88,
   "metadata": {},
   "outputs": [
    {
     "data": {
      "text/plain": [
       "[<matplotlib.lines.Line2D at 0x1e9e633f128>]"
      ]
     },
     "execution_count": 88,
     "metadata": {},
     "output_type": "execute_result"
    }
   ],
   "source": [
    "plt.plot(x1,x1)"
   ]
  },
  {
   "cell_type": "code",
   "execution_count": 89,
   "metadata": {},
   "outputs": [
    {
     "data": {
      "text/plain": [
       "[<matplotlib.lines.Line2D at 0x1e9e633fbe0>]"
      ]
     },
     "execution_count": 89,
     "metadata": {},
     "output_type": "execute_result"
    }
   ],
   "source": [
    "plt.plot(x1,n_log)"
   ]
  },
  {
   "cell_type": "code",
   "execution_count": 90,
   "metadata": {},
   "outputs": [
    {
     "data": {
      "image/png": "[encoded data removed]",
      "text/plain": [
       "<matplotlib.figure.Figure at 0x1e9e4efc2b0>"
      ]
     },
     "metadata": {},
     "output_type": "display_data"
    }
   ],
   "source": [
    "plt.show()"
   ]
  },
  {
   "cell_type": "code",
   "execution_count": 94,
   "metadata": {},
   "outputs": [
    {
     "ename": "TypeError",
     "evalue": "return arrays must be of ArrayType",
     "output_type": "error",
     "traceback": [
      "\u001b[1;31m---------------------------------------------------------------------------\u001b[0m",
      "\u001b[1;31mTypeError\u001b[0m                                 Traceback (most recent call last)",
      "\u001b[1;32m<ipython-input-94-de05b5df13be>\u001b[0m in \u001b[0;36m<module>\u001b[1;34m()\u001b[0m\n\u001b[1;32m----> 1\u001b[1;33m \u001b[0ma\u001b[0m \u001b[1;33m=\u001b[0m \u001b[0mnp\u001b[0m\u001b[1;33m.\u001b[0m\u001b[0mexp\u001b[0m\u001b[1;33m(\u001b[0m\u001b[0mn\u001b[0m\u001b[1;33m,\u001b[0m\u001b[1;36m2\u001b[0m\u001b[1;33m)\u001b[0m\u001b[1;33m\u001b[0m\u001b[0m\n\u001b[0m",
      "\u001b[1;31mTypeError\u001b[0m: return arrays must be of ArrayType"
     ]
    }
   ],
   "source": [
    "a = np.exp(n,2)"
   ]
  },
  {
   "cell_type": "code",
   "execution_count": 93,
   "metadata": {},
   "outputs": [
    {
     "ename": "NameError",
     "evalue": "name 'a' is not defined",
     "output_type": "error",
     "traceback": [
      "\u001b[1;31m---------------------------------------------------------------------------\u001b[0m",
      "\u001b[1;31mNameError\u001b[0m                                 Traceback (most recent call last)",
      "\u001b[1;32m<ipython-input-93-f848ce086b5c>\u001b[0m in \u001b[0;36m<module>\u001b[1;34m()\u001b[0m\n\u001b[1;32m----> 1\u001b[1;33m \u001b[0ma\u001b[0m\u001b[1;33m.\u001b[0m\u001b[0mdtype\u001b[0m\u001b[1;33m\u001b[0m\u001b[0m\n\u001b[0m",
      "\u001b[1;31mNameError\u001b[0m: name 'a' is not defined"
     ]
    }
   ],
   "source": [
    "a.dtype"
   ]
  },
  {
   "cell_type": "code",
   "execution_count": null,
   "metadata": {
    "collapsed": true
   },
   "outputs": [],
   "source": []
  }
 ],
 "metadata": {
  "kernelspec": {
   "display_name": "Python 3",
   "language": "python",
   "name": "python3"
  }
 },
 "nbformat": 4,
 "nbformat_minor": 2
}
